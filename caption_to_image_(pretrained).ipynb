{
 "cells": [
  {
   "cell_type": "code",
   "execution_count": 1,
   "metadata": {},
   "outputs": [
    {
     "name": "stdout",
     "output_type": "stream",
     "text": [
      "Requirement already satisfied: deeplake in c:\\users\\veda1\\appdata\\local\\programs\\python\\python311\\lib\\site-packages (3.9.25)\n",
      "Requirement already satisfied: transformers in c:\\users\\veda1\\appdata\\local\\programs\\python\\python311\\lib\\site-packages (4.45.1)\n",
      "Requirement already satisfied: torch in c:\\users\\veda1\\appdata\\local\\programs\\python\\python311\\lib\\site-packages (2.4.1)\n",
      "Requirement already satisfied: torchvision in c:\\users\\veda1\\appdata\\local\\programs\\python\\python311\\lib\\site-packages (0.19.1)\n",
      "Requirement already satisfied: numpy<2.0 in c:\\users\\veda1\\appdata\\local\\programs\\python\\python311\\lib\\site-packages (from deeplake) (1.26.4)\n",
      "Requirement already satisfied: pillow~=10.4.0 in c:\\users\\veda1\\appdata\\local\\programs\\python\\python311\\lib\\site-packages (from deeplake) (10.4.0)\n",
      "Requirement already satisfied: boto3 in c:\\users\\veda1\\appdata\\local\\programs\\python\\python311\\lib\\site-packages (from deeplake) (1.35.31)\n",
      "Requirement already satisfied: click in c:\\users\\veda1\\appdata\\local\\programs\\python\\python311\\lib\\site-packages (from deeplake) (8.1.7)\n",
      "Requirement already satisfied: pathos in c:\\users\\veda1\\appdata\\local\\programs\\python\\python311\\lib\\site-packages (from deeplake) (0.3.3)\n",
      "Requirement already satisfied: humbug>=0.3.1 in c:\\users\\veda1\\appdata\\local\\programs\\python\\python311\\lib\\site-packages (from deeplake) (0.3.2)\n",
      "Requirement already satisfied: tqdm in c:\\users\\veda1\\appdata\\local\\programs\\python\\python311\\lib\\site-packages (from deeplake) (4.66.5)\n",
      "Requirement already satisfied: lz4 in c:\\users\\veda1\\appdata\\local\\programs\\python\\python311\\lib\\site-packages (from deeplake) (4.3.3)\n",
      "Requirement already satisfied: pyjwt in c:\\users\\veda1\\appdata\\local\\programs\\python\\python311\\lib\\site-packages (from deeplake) (2.9.0)\n",
      "Requirement already satisfied: pydantic in c:\\users\\veda1\\appdata\\local\\programs\\python\\python311\\lib\\site-packages (from deeplake) (2.9.2)\n",
      "Requirement already satisfied: filelock in c:\\users\\veda1\\appdata\\local\\programs\\python\\python311\\lib\\site-packages (from transformers) (3.16.1)\n",
      "Requirement already satisfied: huggingface-hub<1.0,>=0.23.2 in c:\\users\\veda1\\appdata\\local\\programs\\python\\python311\\lib\\site-packages (from transformers) (0.25.1)\n",
      "Requirement already satisfied: packaging>=20.0 in c:\\users\\veda1\\appdata\\roaming\\python\\python311\\site-packages (from transformers) (24.1)\n",
      "Requirement already satisfied: pyyaml>=5.1 in c:\\users\\veda1\\appdata\\local\\programs\\python\\python311\\lib\\site-packages (from transformers) (6.0.2)\n",
      "Requirement already satisfied: regex!=2019.12.17 in c:\\users\\veda1\\appdata\\local\\programs\\python\\python311\\lib\\site-packages (from transformers) (2024.9.11)\n",
      "Requirement already satisfied: requests in c:\\users\\veda1\\appdata\\local\\programs\\python\\python311\\lib\\site-packages (from transformers) (2.32.3)\n",
      "Requirement already satisfied: safetensors>=0.4.1 in c:\\users\\veda1\\appdata\\local\\programs\\python\\python311\\lib\\site-packages (from transformers) (0.4.5)\n",
      "Requirement already satisfied: tokenizers<0.21,>=0.20 in c:\\users\\veda1\\appdata\\local\\programs\\python\\python311\\lib\\site-packages (from transformers) (0.20.0)\n",
      "Requirement already satisfied: typing-extensions>=4.8.0 in c:\\users\\veda1\\appdata\\roaming\\python\\python311\\site-packages (from torch) (4.12.2)\n",
      "Requirement already satisfied: sympy in c:\\users\\veda1\\appdata\\local\\programs\\python\\python311\\lib\\site-packages (from torch) (1.13.3)\n",
      "Requirement already satisfied: networkx in c:\\users\\veda1\\appdata\\local\\programs\\python\\python311\\lib\\site-packages (from torch) (3.3)\n",
      "Requirement already satisfied: jinja2 in c:\\users\\veda1\\appdata\\local\\programs\\python\\python311\\lib\\site-packages (from torch) (3.1.4)\n",
      "Requirement already satisfied: fsspec in c:\\users\\veda1\\appdata\\local\\programs\\python\\python311\\lib\\site-packages (from torch) (2024.6.1)\n",
      "Requirement already satisfied: colorama in c:\\users\\veda1\\appdata\\roaming\\python\\python311\\site-packages (from tqdm->deeplake) (0.4.6)\n",
      "Requirement already satisfied: botocore<1.36.0,>=1.35.31 in c:\\users\\veda1\\appdata\\local\\programs\\python\\python311\\lib\\site-packages (from boto3->deeplake) (1.35.31)\n",
      "Requirement already satisfied: jmespath<2.0.0,>=0.7.1 in c:\\users\\veda1\\appdata\\local\\programs\\python\\python311\\lib\\site-packages (from boto3->deeplake) (1.0.1)\n",
      "Requirement already satisfied: s3transfer<0.11.0,>=0.10.0 in c:\\users\\veda1\\appdata\\local\\programs\\python\\python311\\lib\\site-packages (from boto3->deeplake) (0.10.2)\n",
      "Requirement already satisfied: MarkupSafe>=2.0 in c:\\users\\veda1\\appdata\\local\\programs\\python\\python311\\lib\\site-packages (from jinja2->torch) (2.1.5)\n",
      "Requirement already satisfied: ppft>=1.7.6.9 in c:\\users\\veda1\\appdata\\local\\programs\\python\\python311\\lib\\site-packages (from pathos->deeplake) (1.7.6.9)\n",
      "Requirement already satisfied: dill>=0.3.9 in c:\\users\\veda1\\appdata\\local\\programs\\python\\python311\\lib\\site-packages (from pathos->deeplake) (0.3.9)\n",
      "Requirement already satisfied: pox>=0.3.5 in c:\\users\\veda1\\appdata\\local\\programs\\python\\python311\\lib\\site-packages (from pathos->deeplake) (0.3.5)\n",
      "Requirement already satisfied: multiprocess>=0.70.17 in c:\\users\\veda1\\appdata\\local\\programs\\python\\python311\\lib\\site-packages (from pathos->deeplake) (0.70.17)\n",
      "Requirement already satisfied: annotated-types>=0.6.0 in c:\\users\\veda1\\appdata\\local\\programs\\python\\python311\\lib\\site-packages (from pydantic->deeplake) (0.7.0)\n",
      "Requirement already satisfied: pydantic-core==2.23.4 in c:\\users\\veda1\\appdata\\local\\programs\\python\\python311\\lib\\site-packages (from pydantic->deeplake) (2.23.4)\n",
      "Requirement already satisfied: charset-normalizer<4,>=2 in c:\\users\\veda1\\appdata\\local\\programs\\python\\python311\\lib\\site-packages (from requests->transformers) (3.3.2)\n",
      "Requirement already satisfied: idna<4,>=2.5 in c:\\users\\veda1\\appdata\\local\\programs\\python\\python311\\lib\\site-packages (from requests->transformers) (3.10)\n",
      "Requirement already satisfied: urllib3<3,>=1.21.1 in c:\\users\\veda1\\appdata\\local\\programs\\python\\python311\\lib\\site-packages (from requests->transformers) (2.2.3)\n",
      "Requirement already satisfied: certifi>=2017.4.17 in c:\\users\\veda1\\appdata\\local\\programs\\python\\python311\\lib\\site-packages (from requests->transformers) (2024.8.30)\n",
      "Requirement already satisfied: mpmath<1.4,>=1.1.0 in c:\\users\\veda1\\appdata\\local\\programs\\python\\python311\\lib\\site-packages (from sympy->torch) (1.3.0)\n",
      "Requirement already satisfied: python-dateutil<3.0.0,>=2.1 in c:\\users\\veda1\\appdata\\roaming\\python\\python311\\site-packages (from botocore<1.36.0,>=1.35.31->boto3->deeplake) (2.9.0.post0)\n",
      "Requirement already satisfied: six>=1.5 in c:\\users\\veda1\\appdata\\roaming\\python\\python311\\site-packages (from python-dateutil<3.0.0,>=2.1->botocore<1.36.0,>=1.35.31->boto3->deeplake) (1.16.0)\n",
      "Note: you may need to restart the kernel to use updated packages.\n"
     ]
    },
    {
     "name": "stderr",
     "output_type": "stream",
     "text": [
      "\n",
      "[notice] A new release of pip is available: 23.2.1 -> 24.2\n",
      "[notice] To update, run: python.exe -m pip install --upgrade pip\n"
     ]
    }
   ],
   "source": [
    "%pip install deeplake transformers torch torchvision\n"
   ]
  },
  {
   "cell_type": "code",
   "execution_count": 2,
   "metadata": {},
   "outputs": [
    {
     "name": "stderr",
     "output_type": "stream",
     "text": [
      "|"
     ]
    },
    {
     "name": "stdout",
     "output_type": "stream",
     "text": [
      "Opening dataset in read-only mode as you don't have write permissions.\n"
     ]
    },
    {
     "name": "stderr",
     "output_type": "stream",
     "text": [
      "|"
     ]
    },
    {
     "name": "stdout",
     "output_type": "stream",
     "text": [
      "This dataset can be visualized in Jupyter Notebook by ds.visualize() or at https://app.activeloop.ai/activeloop/flickr30k\n",
      "\n"
     ]
    },
    {
     "name": "stderr",
     "output_type": "stream",
     "text": [
      "/"
     ]
    },
    {
     "name": "stdout",
     "output_type": "stream",
     "text": [
      "hub://activeloop/flickr30k loaded successfully.\n",
      "\n",
      "{'caption_0': Tensor(key='caption_0'), 'caption_1': Tensor(key='caption_1'), 'caption_2': Tensor(key='caption_2'), 'caption_3': Tensor(key='caption_3'), 'caption_4': Tensor(key='caption_4'), 'image': Tensor(key='image')}\n"
     ]
    },
    {
     "name": "stderr",
     "output_type": "stream",
     "text": [
      " "
     ]
    }
   ],
   "source": [
    "import deeplake\n",
    "\n",
    "# Load the Flickr30k dataset\n",
    "ds = deeplake.load('hub://activeloop/flickr30k')\n",
    "\n",
    "# Check the dataset structure\n",
    "print(ds.tensors)\n"
   ]
  },
  {
   "cell_type": "code",
   "execution_count": 3,
   "metadata": {},
   "outputs": [
    {
     "name": "stdout",
     "output_type": "stream",
     "text": [
      "Requirement already satisfied: diffusers in c:\\users\\veda1\\appdata\\local\\programs\\python\\python311\\lib\\site-packages (0.30.3)\n",
      "Requirement already satisfied: importlib-metadata in c:\\users\\veda1\\appdata\\local\\programs\\python\\python311\\lib\\site-packages (from diffusers) (8.5.0)\n",
      "Requirement already satisfied: filelock in c:\\users\\veda1\\appdata\\local\\programs\\python\\python311\\lib\\site-packages (from diffusers) (3.16.1)\n",
      "Requirement already satisfied: huggingface-hub>=0.23.2 in c:\\users\\veda1\\appdata\\local\\programs\\python\\python311\\lib\\site-packages (from diffusers) (0.25.1)\n",
      "Requirement already satisfied: numpy in c:\\users\\veda1\\appdata\\local\\programs\\python\\python311\\lib\\site-packages (from diffusers) (1.26.4)\n",
      "Requirement already satisfied: regex!=2019.12.17 in c:\\users\\veda1\\appdata\\local\\programs\\python\\python311\\lib\\site-packages (from diffusers) (2024.9.11)\n",
      "Requirement already satisfied: requests in c:\\users\\veda1\\appdata\\local\\programs\\python\\python311\\lib\\site-packages (from diffusers) (2.32.3)\n",
      "Requirement already satisfied: safetensors>=0.3.1 in c:\\users\\veda1\\appdata\\local\\programs\\python\\python311\\lib\\site-packages (from diffusers) (0.4.5)\n",
      "Requirement already satisfied: Pillow in c:\\users\\veda1\\appdata\\local\\programs\\python\\python311\\lib\\site-packages (from diffusers) (10.4.0)\n",
      "Requirement already satisfied: fsspec>=2023.5.0 in c:\\users\\veda1\\appdata\\local\\programs\\python\\python311\\lib\\site-packages (from huggingface-hub>=0.23.2->diffusers) (2024.6.1)\n",
      "Requirement already satisfied: packaging>=20.9 in c:\\users\\veda1\\appdata\\roaming\\python\\python311\\site-packages (from huggingface-hub>=0.23.2->diffusers) (24.1)\n",
      "Requirement already satisfied: pyyaml>=5.1 in c:\\users\\veda1\\appdata\\local\\programs\\python\\python311\\lib\\site-packages (from huggingface-hub>=0.23.2->diffusers) (6.0.2)\n",
      "Requirement already satisfied: tqdm>=4.42.1 in c:\\users\\veda1\\appdata\\local\\programs\\python\\python311\\lib\\site-packages (from huggingface-hub>=0.23.2->diffusers) (4.66.5)\n",
      "Requirement already satisfied: typing-extensions>=3.7.4.3 in c:\\users\\veda1\\appdata\\roaming\\python\\python311\\site-packages (from huggingface-hub>=0.23.2->diffusers) (4.12.2)\n",
      "Requirement already satisfied: zipp>=3.20 in c:\\users\\veda1\\appdata\\local\\programs\\python\\python311\\lib\\site-packages (from importlib-metadata->diffusers) (3.20.2)\n",
      "Requirement already satisfied: charset-normalizer<4,>=2 in c:\\users\\veda1\\appdata\\local\\programs\\python\\python311\\lib\\site-packages (from requests->diffusers) (3.3.2)\n",
      "Requirement already satisfied: idna<4,>=2.5 in c:\\users\\veda1\\appdata\\local\\programs\\python\\python311\\lib\\site-packages (from requests->diffusers) (3.10)\n",
      "Requirement already satisfied: urllib3<3,>=1.21.1 in c:\\users\\veda1\\appdata\\local\\programs\\python\\python311\\lib\\site-packages (from requests->diffusers) (2.2.3)\n",
      "Requirement already satisfied: certifi>=2017.4.17 in c:\\users\\veda1\\appdata\\local\\programs\\python\\python311\\lib\\site-packages (from requests->diffusers) (2024.8.30)\n",
      "Requirement already satisfied: colorama in c:\\users\\veda1\\appdata\\roaming\\python\\python311\\site-packages (from tqdm>=4.42.1->huggingface-hub>=0.23.2->diffusers) (0.4.6)\n",
      "Note: you may need to restart the kernel to use updated packages.\n"
     ]
    },
    {
     "name": "stderr",
     "output_type": "stream",
     "text": [
      "\n",
      "[notice] A new release of pip is available: 23.2.1 -> 24.2\n",
      "[notice] To update, run: python.exe -m pip install --upgrade pip\n"
     ]
    }
   ],
   "source": [
    "%pip install diffusers "
   ]
  },
  {
   "cell_type": "code",
   "execution_count": 4,
   "metadata": {},
   "outputs": [
    {
     "name": "stderr",
     "output_type": "stream",
     "text": [
      "c:\\Users\\veda1\\AppData\\Local\\Programs\\Python\\Python311\\Lib\\site-packages\\tqdm\\auto.py:21: TqdmWarning: IProgress not found. Please update jupyter and ipywidgets. See https://ipywidgets.readthedocs.io/en/stable/user_install.html\n",
      "  from .autonotebook import tqdm as notebook_tqdm\n",
      "Loading pipeline components...:   0%|          | 0/7 [00:00<?, ?it/s]c:\\Users\\veda1\\AppData\\Local\\Programs\\Python\\Python311\\Lib\\site-packages\\transformers\\tokenization_utils_base.py:1617: FutureWarning: `clean_up_tokenization_spaces` was not set. It will be set to `True` by default. This behavior will be deprecated in transformers v4.45, and will be then set to `False` by default. For more details check this issue: https://github.com/huggingface/transformers/issues/31884\n",
      "  warnings.warn(\n",
      "Loading pipeline components...: 100%|██████████| 7/7 [00:00<00:00,  9.50it/s]\n"
     ]
    },
    {
     "data": {
      "text/plain": [
       "StableDiffusionPipeline {\n",
       "  \"_class_name\": \"StableDiffusionPipeline\",\n",
       "  \"_diffusers_version\": \"0.30.3\",\n",
       "  \"_name_or_path\": \"CompVis/stable-diffusion-v1-4\",\n",
       "  \"feature_extractor\": [\n",
       "    \"transformers\",\n",
       "    \"CLIPImageProcessor\"\n",
       "  ],\n",
       "  \"image_encoder\": [\n",
       "    null,\n",
       "    null\n",
       "  ],\n",
       "  \"requires_safety_checker\": true,\n",
       "  \"safety_checker\": [\n",
       "    \"stable_diffusion\",\n",
       "    \"StableDiffusionSafetyChecker\"\n",
       "  ],\n",
       "  \"scheduler\": [\n",
       "    \"diffusers\",\n",
       "    \"PNDMScheduler\"\n",
       "  ],\n",
       "  \"text_encoder\": [\n",
       "    \"transformers\",\n",
       "    \"CLIPTextModel\"\n",
       "  ],\n",
       "  \"tokenizer\": [\n",
       "    \"transformers\",\n",
       "    \"CLIPTokenizer\"\n",
       "  ],\n",
       "  \"unet\": [\n",
       "    \"diffusers\",\n",
       "    \"UNet2DConditionModel\"\n",
       "  ],\n",
       "  \"vae\": [\n",
       "    \"diffusers\",\n",
       "    \"AutoencoderKL\"\n",
       "  ]\n",
       "}"
      ]
     },
     "execution_count": 4,
     "metadata": {},
     "output_type": "execute_result"
    }
   ],
   "source": [
    "from diffusers import StableDiffusionPipeline\n",
    "import torch\n",
    "\n",
    "# Load the pretrained text-to-image model\n",
    "model = StableDiffusionPipeline.from_pretrained('CompVis/stable-diffusion-v1-4')\n",
    "\n",
    "# Move model to GPU if available\n",
    "device = \"cuda\" if torch.cuda.is_available() else \"cpu\"\n",
    "model.to(device)\n"
   ]
  },
  {
   "cell_type": "code",
   "execution_count": 5,
   "metadata": {},
   "outputs": [],
   "source": [
    "import random\n",
    "\n",
    "def get_random_caption(sample):\n",
    "    captions = [\n",
    "        sample['caption_0'].numpy().tobytes().decode('utf-8'),\n",
    "        sample['caption_1'].numpy().tobytes().decode('utf-8'),\n",
    "        sample['caption_2'].numpy().tobytes().decode('utf-8'),\n",
    "        sample['caption_3'].numpy().tobytes().decode('utf-8'),\n",
    "        sample['caption_4'].numpy().tobytes().decode('utf-8'),\n",
    "    ]\n",
    "    return random.choice(captions)"
   ]
  },
  {
   "cell_type": "code",
   "execution_count": 6,
   "metadata": {},
   "outputs": [],
   "source": [
    "import torch\n",
    "from PIL import Image\n",
    "import deeplake"
   ]
  },
  {
   "cell_type": "code",
   "execution_count": 28,
   "metadata": {},
   "outputs": [
    {
     "name": "stderr",
     "output_type": "stream",
     "text": [
      "c:\\Users\\veda1\\AppData\\Local\\Programs\\Python\\Python311\\Lib\\site-packages\\deeplake\\core\\dataset\\dataset.py:634: UserWarning: Indexing by integer in a for loop, like `for i in range(len(ds)): ... ds[i]` can be quite slow. Use `for i, sample in enumerate(ds)` instead.\n",
      "  warnings.warn(\n"
     ]
    },
    {
     "name": "stdout",
     "output_type": "stream",
     "text": [
      "Actual Image:\n",
      "Generating image for caption: A\u0000\u0000\u0000 \u0000\u0000\u0000b\u0000\u0000\u0000u\u0000\u0000\u0000s\u0000\u0000\u0000y\u0000\u0000\u0000 \u0000\u0000\u0000p\u0000\u0000\u0000r\u0000\u0000\u0000o\u0000\u0000\u0000m\u0000\u0000\u0000e\u0000\u0000\u0000n\u0000\u0000\u0000a\u0000\u0000\u0000d\u0000\u0000\u0000e\u0000\u0000\u0000 \u0000\u0000\u0000w\u0000\u0000\u0000h\u0000\u0000\u0000e\u0000\u0000\u0000r\u0000\u0000\u0000e\u0000\u0000\u0000 \u0000\u0000\u0000p\u0000\u0000\u0000e\u0000\u0000\u0000o\u0000\u0000\u0000p\u0000\u0000\u0000l\u0000\u0000\u0000e\u0000\u0000\u0000 \u0000\u0000\u0000g\u0000\u0000\u0000a\u0000\u0000\u0000t\u0000\u0000\u0000h\u0000\u0000\u0000e\u0000\u0000\u0000r\u0000\u0000\u0000 \u0000\u0000\u0000.\u0000\u0000\u0000\n",
      "Generating image for caption: A\u0000\u0000\u0000 \u0000\u0000\u0000b\u0000\u0000\u0000u\u0000\u0000\u0000s\u0000\u0000\u0000y\u0000\u0000\u0000 \u0000\u0000\u0000p\u0000\u0000\u0000r\u0000\u0000\u0000o\u0000\u0000\u0000m\u0000\u0000\u0000e\u0000\u0000\u0000n\u0000\u0000\u0000a\u0000\u0000\u0000d\u0000\u0000\u0000e\u0000\u0000\u0000 \u0000\u0000\u0000w\u0000\u0000\u0000h\u0000\u0000\u0000e\u0000\u0000\u0000r\u0000\u0000\u0000e\u0000\u0000\u0000 \u0000\u0000\u0000p\u0000\u0000\u0000e\u0000\u0000\u0000o\u0000\u0000\u0000p\u0000\u0000\u0000l\u0000\u0000\u0000e\u0000\u0000\u0000 \u0000\u0000\u0000g\u0000\u0000\u0000a\u0000\u0000\u0000t\u0000\u0000\u0000h\u0000\u0000\u0000e\u0000\u0000\u0000r\u0000\u0000\u0000 \u0000\u0000\u0000.\u0000\u0000\u0000\n"
     ]
    },
    {
     "name": "stderr",
     "output_type": "stream",
     "text": [
      "100%|██████████| 50/50 [07:31<00:00,  9.02s/it]\n"
     ]
    }
   ],
   "source": [
    "# Function to generate image from text\n",
    "def generate_image_from_caption(caption):\n",
    "    print(f\"Generating image for caption: {caption}\")\n",
    "    image = model(caption).images[0]\n",
    "    return image\n",
    "\n",
    "# Load the actual image from the dataset\n",
    "def show_actual_image(sample):\n",
    "    img_data = sample['image'].data()['value']\n",
    "    img = Image.fromarray(img_data)\n",
    "    img.show()\n",
    "    \n",
    "# Loop through the dataset and generate images from captions\n",
    "num_samples = 1  # Number of samples you want to generate images for\n",
    "for i in range(num_samples):\n",
    "    sample = ds[i]  # Load sample\n",
    "    \n",
    "    print(\"Actual Image:\")\n",
    "    show_actual_image(sample)  # Display the actual image\n",
    "    \n",
    "    caption = get_random_caption(sample)  # Get a random caption\n",
    "    print(f\"Generating image for caption: {caption}\")\n",
    "    \n",
    "    # Generate the image\n",
    "    image = generate_image_from_caption(caption)\n",
    "    \n",
    "    # Save or show the image\n",
    "    image.show()  # or image.save(f\"generated_image_{i}.png\")"
   ]
  },
  {
   "cell_type": "code",
   "execution_count": 7,
   "metadata": {},
   "outputs": [
    {
     "name": "stdout",
     "output_type": "stream",
     "text": [
      "Generating image for caption: A laughing robot in the sunset\n"
     ]
    },
    {
     "name": "stderr",
     "output_type": "stream",
     "text": [
      "100%|██████████| 50/50 [07:04<00:00,  8.50s/it]\n"
     ]
    }
   ],
   "source": [
    "def generate_image_from_custom_caption(caption):\n",
    "    print(f\"Generating image for caption: {caption}\")\n",
    "    image = model(caption).images[0]\n",
    "    return image\n",
    "\n",
    "# Input your own custom caption here\n",
    "custom_caption = \"A laughing robot in the sunset\"\n",
    "\n",
    "# Generate the image based on the custom caption\n",
    "generated_image = generate_image_from_custom_caption(custom_caption)\n",
    "\n",
    "# Display or save the generated image\n",
    "generated_image.show() "
   ]
  },
  {
   "cell_type": "code",
   "execution_count": 27,
   "metadata": {},
   "outputs": [
    {
     "name": "stdout",
     "output_type": "stream",
     "text": [
      "Generating image for caption: A futuristic city with flying cars at night with neon lights \n"
     ]
    },
    {
     "name": "stderr",
     "output_type": "stream",
     "text": [
      "100%|██████████| 50/50 [07:01<00:00,  8.43s/it]\n"
     ]
    }
   ],
   "source": [
    "# Input your own custom caption here\n",
    "custom_caption = \"A futuristic city with flying cars at night with neon lights \"\n",
    "\n",
    "# Generate the image based on the custom caption\n",
    "generated_image = generate_image_from_custom_caption(custom_caption)\n",
    "\n",
    "# Display or save the generated image\n",
    "generated_image.show()"
   ]
  },
  {
   "cell_type": "code",
   "execution_count": 8,
   "metadata": {},
   "outputs": [
    {
     "name": "stdout",
     "output_type": "stream",
     "text": [
      "Generating image for caption: A majestic mountain landscape with a sunset sky and a flowing river in the foreground and players playing soccer. \n"
     ]
    },
    {
     "name": "stderr",
     "output_type": "stream",
     "text": [
      "100%|██████████| 50/50 [07:42<00:00,  9.26s/it]\n"
     ]
    }
   ],
   "source": [
    "# Input your own custom caption here\n",
    "custom_caption = \"A majestic mountain landscape with a sunset sky and a flowing river in the foreground and players playing soccer. \"\n",
    "\n",
    "# Generate the image based on the custom caption\n",
    "generated_image = generate_image_from_custom_caption(custom_caption)\n",
    "\n",
    "# Display or save the generated image\n",
    "generated_image.show()\n"
   ]
  }
 ],
 "metadata": {
  "kernelspec": {
   "display_name": "Python 3",
   "language": "python",
   "name": "python3"
  },
  "language_info": {
   "codemirror_mode": {
    "name": "ipython",
    "version": 3
   },
   "file_extension": ".py",
   "mimetype": "text/x-python",
   "name": "python",
   "nbconvert_exporter": "python",
   "pygments_lexer": "ipython3",
   "version": "3.11.5"
  }
 },
 "nbformat": 4,
 "nbformat_minor": 2
}
